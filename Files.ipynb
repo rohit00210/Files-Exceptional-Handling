{
  "nbformat": 4,
  "nbformat_minor": 0,
  "metadata": {
    "colab": {
      "provenance": []
    },
    "kernelspec": {
      "name": "python3",
      "display_name": "Python 3"
    },
    "language_info": {
      "name": "python"
    }
  },
  "cells": [
    {
      "cell_type": "markdown",
      "source": [
        "# Files, exceptional handling, logging and memory management"
      ],
      "metadata": {
        "id": "vQZA9M-364Q0"
      }
    },
    {
      "cell_type": "markdown",
      "source": [
        "1. What is the difference between interpreted and compiled languages?\n",
        "- Interpreted Languages\n",
        "    - Code is executed line by line by an interpreter.\n",
        "    - No separate compilation step; the program runs directly from source code.\n",
        "    - Slower execution since each line is translated on the fly.\n",
        "    - More flexible for debugging and platform independence.\n",
        "    - Examples: Python, JavaScript, PHP, Ruby\n",
        "\n",
        "- Compiled Languages\n",
        "    - Code is translated entirely into machine code before execution.\n",
        "    - Requires a compiler to generate an executable file.\n",
        "    - Faster execution since the program runs as machine code directly.\n",
        "    - More optimized but less flexible for quick edits and testing.\n",
        "    - Examples: C, C++, Rust, Go\n",
        "\n",
        "2. What is exception handling in Python?\n",
        "- Exception handling in Python is a way to deal with errors so that the program doesn’t crash. It uses a `try` block to run code that might cause an error, and an `except` block to handle the error if it happens. For example, if you try to divide by zero, Python will normally crash, but with exception handling, you can show a friendly message instead. You can also handle different types of errors separately, use `else` to run code if no errors happen, and `finally` to run code no matter what (like closing a file). This makes programs more reliable and user-friendly.\n",
        "\n",
        "3. What is the purpose of the finally block in exception handling?\n",
        "- The finally block in exception handling is used to run code no matter what happens, whether an error occurs or not. It is useful for tasks that need to be done at the end, like closing a file, releasing resources, or cleaning up memory. Even if an error happens in the try block or if there is a return statement in try or except, the finally block will always execute. This ensures that important cleanup tasks are completed, making the program more reliable and preventing resource leaks.\n",
        "\n",
        "4. What is logging in Python?\n",
        "- Logging in Python is a way to track events and errors in a program. Instead of using print() statements for debugging, logging allows you to record messages with different levels like info, warning, error, and critical. This helps in monitoring the program, finding issues, and keeping logs for future analysis. Python provides a built-in logging module, which lets you save logs to a file or display them on the console. Logging is useful for debugging, tracking user activity, and handling errors in a professional way.\n",
        "\n",
        "5. What is the significance of the `__del__` method in Python?\n",
        "- The `__del__` method in Python is a destructor that is called automatically when an object is about to be deleted. It is used to clean up resources, such as closing files or network connections, before the object is removed from memory. However, Python has automatic garbage collection, so __del__ is rarely needed. Using it incorrectly can cause issues, like delaying object deletion if there are circular references. Instead, it's better to use context managers (with statement) or the finally block for resource management.\n",
        "\n",
        "6. What is the difference between import and from ... import in Python?\n",
        "- importer\n",
        " - The import statement in Python is used to bring an entire module into a program. When using import, you must reference the module name before accessing its functions or variables. This approach helps in avoiding name conflicts and makes it clear where each function comes from\n",
        "- from ... import\n",
        " - The from ... import statement allows you to import specific functions or variables directly, so you don’t need to reference the module name. This makes the code shorter and more readable, especially when working with frequently used functions.\n",
        "\n",
        "7. How can you handle multiple exceptions in Python?\n",
        "- You can handle multiple exceptions using a `try-except` block with multiple `except` statements or by using a tuple of exception types.\n",
        "```\n",
        "try:\n",
        "    x = int(\"abc\")\n",
        "except (ValueError, TypeError) as e:\n",
        "    print(\"Error occurred:\", e)\n",
        "```\n",
        "\n",
        "8. What is the purpose of the `with` statement when handling files in Python?\n",
        "- The `with` statement is used for file handling to ensure that files are properly closed after use, even if an error occurs.\n",
        "```\n",
        "with open(\"file.txt\", \"r\") as file:\n",
        "    content = file.read()\n",
        "```\n",
        "\n",
        "9. What is the difference between multithreading and multiprocessing?\n",
        "- **Multithreading**: Multiple threads run within the same process, sharing memory.\n",
        "- **Multiprocessing**: Multiple processes run independently, each with its own memory space.\n",
        "\n",
        "10. What are the advantages of using logging in a program?\n",
        "- Logging helps to:\n",
        " - Track errors and issues.\n",
        " - Store program execution details.\n",
        " - Debug and analyze performance.\n",
        "```\n",
        "import logging\n",
        "logging.basicConfig(level=logging.INFO)\n",
        "logging.info(\"This is an info message\")\n",
        "```\n",
        "\n",
        "11. What is memory management in Python?\n",
        "- Python manages memory using a private heap, garbage collection, and reference counting.\n",
        "\n",
        "12. What are the basic steps involved in exception handling in Python?\n",
        "- 1. Use `try` to write the code that may cause an error.\n",
        " 2. Use `except` to handle specific errors.\n",
        " 3. Use `finally` to execute cleanup code.\n",
        "\n",
        "13. Why is memory management important in Python?\n",
        "- Efficient memory management prevents memory leaks and improves performance.\n",
        "\n",
        "14. What is the role of `try` and `except` in exception handling?\n",
        "- `try` contains the risky code, and `except` handles errors that occur within `try`.\n",
        "\n",
        "15. How does Python's garbage collection system work?\n",
        "- Python uses **reference counting** and a **cyclic garbage collector** to free unused memory.\n",
        "\n",
        "16. What is the purpose of the `else` block in exception handling?\n",
        "- The `else` block runs if no exception occurs in the `try` block.\n",
        "\n",
        "17. What are the common logging levels in Python?\n",
        "- 1. DEBUG\n",
        " 2. INFO\n",
        " 3. WARNING\n",
        " 4. ERROR\n",
        " 5. CRITICAL\n",
        "\n",
        "18. What is the difference between `os.fork()` and multiprocessing in Python?\n",
        "- `os.fork()`: Creates a child process but only works on Unix.\n",
        "- `multiprocessing`: Works on all platforms and creates independent processes.\n",
        "\n",
        "19. What is the importance of closing a file in Python?\n",
        "- Closing a file ensures that changes are saved and system resources are freed.\n",
        "\n",
        "20. What is the difference between `file.read()` and `file.readline()`?\n",
        "- `file.read()`: Reads the entire file.\n",
        "- `file.readline()`: Reads one line at a time.\n",
        "\n",
        "21. What is the `logging` module in Python used for?\n",
        "- The `logging` module is used to record messages about a program's execution.\n",
        "\n",
        "22. What is the `os` module in Python used for in file handling?\n",
        "- The `os` module provides functions to interact with the operating system, like file and directory handling.\n",
        "```\n",
        "import os\n",
        "print(os.listdir(\".\"))  # Lists files in the current directory\n",
        "```\n",
        "\n",
        "23. What are the challenges associated with memory management in Python?\n",
        "- High memory consumption.\n",
        "- Garbage collection overhead.\n",
        "- Circular references.\n",
        "\n",
        "24. How do you raise an exception manually in Python?\n",
        "You can use the `raise` keyword to raise an exception.\n",
        "```\n",
        "raise ValueError(\"This is a custom error message\")\n",
        "```\n",
        "\n",
        "25. Why is it important to use multithreading in certain applications?\n",
        "- Multithreading helps improve efficiency in I/O-bound tasks like web scraping, networking, and GUI applications."
      ],
      "metadata": {
        "id": "Oab7kGTj7EEa"
      }
    },
    {
      "cell_type": "markdown",
      "source": [
        "# Practical Questions"
      ],
      "metadata": {
        "id": "n7FHPS2r4rAc"
      }
    },
    {
      "cell_type": "code",
      "source": [
        "# 1. How can you open a file for writing in Python and write a string to it?\n",
        "\n",
        "with open(\"file.txt\", \"w\") as file:\n",
        "    file.write(\"Hello, World!\")"
      ],
      "metadata": {
        "id": "WxyfixnC5Az0"
      },
      "execution_count": 1,
      "outputs": []
    },
    {
      "cell_type": "code",
      "source": [
        "#2. Write a Python program to read the contents of a file and print each line.\n",
        "with open(\"file.txt\", \"r\") as file:\n",
        "    for line in file:\n",
        "        print(line.strip())\n"
      ],
      "metadata": {
        "colab": {
          "base_uri": "https://localhost:8080/"
        },
        "id": "4Ti64IAW5vR9",
        "outputId": "29719a48-84cb-4f0d-d382-199eeb48de15"
      },
      "execution_count": 2,
      "outputs": [
        {
          "output_type": "stream",
          "name": "stdout",
          "text": [
            "Hello, World!\n"
          ]
        }
      ]
    },
    {
      "cell_type": "code",
      "source": [
        "#3. How would you handle a case where the file doesn't exist while trying to open it for reading?\n",
        "try:\n",
        "    with open(\"non_existent.txt\", \"r\") as file:\n",
        "        content = file.read()\n",
        "except FileNotFoundError:\n",
        "    print(\"File not found!\")\n"
      ],
      "metadata": {
        "colab": {
          "base_uri": "https://localhost:8080/"
        },
        "id": "5dTFcdHJ5-mj",
        "outputId": "92982bb1-9d85-42ed-a43e-aa29ed243426"
      },
      "execution_count": 3,
      "outputs": [
        {
          "output_type": "stream",
          "name": "stdout",
          "text": [
            "File not found!\n"
          ]
        }
      ]
    },
    {
      "cell_type": "code",
      "source": [
        "#4.Write a Python script that reads from one file and writes its content to another file.\n",
        "try:\n",
        "    with open(\"source.txt\", \"r\") as source, open(\"destination.txt\", \"w\") as destination:\n",
        "        for line in source:\n",
        "            destination.write(line)\n",
        "    print(\"File copied successfully.\")\n",
        "except FileNotFoundError:\n",
        "    print(\"Source file not found!\")\n",
        "except IOError:\n",
        "    print(\"Error reading or writing files.\")\n",
        "\n"
      ],
      "metadata": {
        "colab": {
          "base_uri": "https://localhost:8080/"
        },
        "id": "kUyLs4EY6KDg",
        "outputId": "96c32258-d5ff-4c84-bc99-8296a28fc0e7"
      },
      "execution_count": 16,
      "outputs": [
        {
          "output_type": "stream",
          "name": "stdout",
          "text": [
            "Source file not found!\n"
          ]
        }
      ]
    },
    {
      "cell_type": "code",
      "source": [
        "#5. How would you catch and handle division by zero error in Python?\n",
        "try:\n",
        "    result = 10 / 0\n",
        "except ZeroDivisionError:\n",
        "    print(\"Cannot divide by zero!\")\n"
      ],
      "metadata": {
        "colab": {
          "base_uri": "https://localhost:8080/"
        },
        "id": "myS0rPps6byV",
        "outputId": "00eb62c3-6bf9-4a57-995e-d8c19eab6d4a"
      },
      "execution_count": 7,
      "outputs": [
        {
          "output_type": "stream",
          "name": "stdout",
          "text": [
            "Cannot divide by zero!\n"
          ]
        }
      ]
    },
    {
      "cell_type": "code",
      "source": [
        "#6. Write a Python program that logs an error message to a log file when a division by zero exception occurs.\n",
        "import logging\n",
        "\n",
        "logging.basicConfig(filename=\"errors.log\", level=logging.ERROR)\n",
        "\n",
        "try:\n",
        "    result = 10 / 0\n",
        "except ZeroDivisionError:\n",
        "    logging.error(\"Attempted division by zero\")"
      ],
      "metadata": {
        "colab": {
          "base_uri": "https://localhost:8080/"
        },
        "id": "DKJcgTlf6_M1",
        "outputId": "2611bd71-d8e8-4ab0-a2e3-59fbdd625e51"
      },
      "execution_count": 8,
      "outputs": [
        {
          "output_type": "stream",
          "name": "stderr",
          "text": [
            "ERROR:root:Attempted division by zero\n"
          ]
        }
      ]
    },
    {
      "cell_type": "code",
      "source": [
        "#7. How do you log information at different levels (INFO, ERROR, WARNING) in Python using the logging module?\n",
        "import logging\n",
        "\n",
        "logging.basicConfig(level=logging.DEBUG)\n",
        "\n",
        "logging.debug(\"This is a debug message\")\n",
        "logging.info(\"This is an info message\")\n",
        "logging.warning(\"This is a warning message\")\n",
        "logging.error(\"This is an error message\")\n",
        "logging.critical(\"This is a critical message\")\n"
      ],
      "metadata": {
        "colab": {
          "base_uri": "https://localhost:8080/"
        },
        "id": "16_wB-yY7LRn",
        "outputId": "0695023d-858e-4c45-ca61-bc4cfba222e7"
      },
      "execution_count": 9,
      "outputs": [
        {
          "output_type": "stream",
          "name": "stderr",
          "text": [
            "WARNING:root:This is a warning message\n",
            "ERROR:root:This is an error message\n",
            "CRITICAL:root:This is a critical message\n"
          ]
        }
      ]
    },
    {
      "cell_type": "code",
      "source": [
        "#8. Write a program to handle a file opening error using exception handling.\n",
        "try:\n",
        "    with open(\"non_existent.txt\", \"r\") as file:\n",
        "        content = file.read()\n",
        "except IOError:\n",
        "    print(\"Error opening file!\")\n"
      ],
      "metadata": {
        "colab": {
          "base_uri": "https://localhost:8080/"
        },
        "id": "Bc3eXs-N7cvd",
        "outputId": "2b1dc6fc-cdc1-4e1f-c513-4321a0c95c83"
      },
      "execution_count": 10,
      "outputs": [
        {
          "output_type": "stream",
          "name": "stdout",
          "text": [
            "Error opening file!\n"
          ]
        }
      ]
    },
    {
      "cell_type": "code",
      "source": [
        "#9. How can you read a file line by line and store its content in a list in Python?\n",
        "with open(\"file.txt\", \"r\") as file:\n",
        "    lines = file.readlines()\n"
      ],
      "metadata": {
        "id": "I7e-Mw2l7oIe"
      },
      "execution_count": 11,
      "outputs": []
    },
    {
      "cell_type": "code",
      "source": [
        "#10. How can you append data to an existing file in Python?\n",
        "with open(\"file.txt\", \"a\") as file:\n",
        "    file.write(\"\\nNew line appended.\")\n"
      ],
      "metadata": {
        "id": "VYeJmkji7xK4"
      },
      "execution_count": 12,
      "outputs": []
    },
    {
      "cell_type": "code",
      "source": [
        "#11. Write a Python program that uses a try-except block to handle an error when attempting to access a dictionary key that doesn't exist.\n",
        "try:\n",
        "    my_dict = {\"a\": 1}\n",
        "    print(my_dict[\"b\"])\n",
        "except KeyError:\n",
        "    print(\"Key does not exist!\")\n"
      ],
      "metadata": {
        "colab": {
          "base_uri": "https://localhost:8080/"
        },
        "id": "oTmSH0yf7-by",
        "outputId": "37e0257d-d299-4576-82d3-fcef6f0361e1"
      },
      "execution_count": 13,
      "outputs": [
        {
          "output_type": "stream",
          "name": "stdout",
          "text": [
            "Key does not exist!\n"
          ]
        }
      ]
    },
    {
      "cell_type": "code",
      "source": [
        "#12. Write a program that demonstrates using multiple except blocks to handle different types of exceptions.\n",
        "try:\n",
        "    result = 10 / 0\n",
        "except ZeroDivisionError:\n",
        "    print(\"Cannot divide by zero!\")\n",
        "except ValueError:\n",
        "    print(\"Invalid value!\")\n"
      ],
      "metadata": {
        "colab": {
          "base_uri": "https://localhost:8080/"
        },
        "id": "9wdMtSC18Qpp",
        "outputId": "5021549b-0219-4d65-cbce-1bd30d61d949"
      },
      "execution_count": 14,
      "outputs": [
        {
          "output_type": "stream",
          "name": "stdout",
          "text": [
            "Cannot divide by zero!\n"
          ]
        }
      ]
    },
    {
      "cell_type": "code",
      "source": [
        "#13. How would you check if a file exists before attempting to read it in Python?\n",
        "import os\n",
        "\n",
        "if os.path.exists(\"file.txt\"):\n",
        "    with open(\"file.txt\", \"r\") as file:\n",
        "        print(file.read())\n",
        "else:\n",
        "    print(\"File does not exist!\")\n"
      ],
      "metadata": {
        "colab": {
          "base_uri": "https://localhost:8080/"
        },
        "id": "E8thEjsy8Y5I",
        "outputId": "62596f81-1f77-4c14-c121-57003d606296"
      },
      "execution_count": 15,
      "outputs": [
        {
          "output_type": "stream",
          "name": "stdout",
          "text": [
            "Hello, World!\n",
            "New line appended.\n"
          ]
        }
      ]
    },
    {
      "cell_type": "code",
      "source": [
        "#14. Write a program that uses the logging module to log both informational and error messages.\n",
        "import logging\n",
        "\n",
        "logging.basicConfig(filename=\"app.log\", level=logging.INFO)\n",
        "\n",
        "logging.info(\"This is an info message\")\n",
        "logging.error(\"This is an error message\")\n"
      ],
      "metadata": {
        "colab": {
          "base_uri": "https://localhost:8080/"
        },
        "id": "Fl14xrDh8iQ1",
        "outputId": "f35b2201-7844-4095-87a2-b6e19a5f2b63"
      },
      "execution_count": 17,
      "outputs": [
        {
          "output_type": "stream",
          "name": "stderr",
          "text": [
            "ERROR:root:This is an error message\n"
          ]
        }
      ]
    },
    {
      "cell_type": "code",
      "source": [
        "#15.  Write a Python program that prints the content of a file and handles the case when the file is empty.\n",
        "with open(\"file.txt\", \"r\") as file:\n",
        "    content = file.read()\n",
        "    if not content:\n",
        "        print(\"File is empty\")\n",
        "    else:\n",
        "        print(content)\n"
      ],
      "metadata": {
        "colab": {
          "base_uri": "https://localhost:8080/"
        },
        "id": "Y_jJpvUD80vn",
        "outputId": "3646e57f-1a84-4639-9e2e-3b8545ccfb26"
      },
      "execution_count": 18,
      "outputs": [
        {
          "output_type": "stream",
          "name": "stdout",
          "text": [
            "Hello, World!\n",
            "New line appended.\n"
          ]
        }
      ]
    },
    {
      "cell_type": "code",
      "source": [
        "#16. Demonstrate how to use memory profiling to check the memory usage of a small program.\n",
        "try:\n",
        "  from memory_profiler import profile\n",
        "\n",
        "  @profile\n",
        "  def my_function():\n",
        "    a = [i for i in range(100000)]\n",
        "    return a\n",
        "\n",
        "  my_function()\n",
        "except ModuleNotFoundError:\n",
        "  print (\"module not found\")"
      ],
      "metadata": {
        "colab": {
          "base_uri": "https://localhost:8080/"
        },
        "id": "nW2riRKC8-Qa",
        "outputId": "e1f6c5df-2d58-4b75-cbc5-5f113b5e8907"
      },
      "execution_count": 23,
      "outputs": [
        {
          "output_type": "stream",
          "name": "stdout",
          "text": [
            "module not found\n"
          ]
        }
      ]
    },
    {
      "cell_type": "code",
      "source": [
        "#17. Write a Python program to create and write a list of numbers to a file, one number per line.\n",
        "numbers = [1, 2, 3, 4, 5]\n",
        "\n",
        "with open(\"numbers.txt\", \"w\") as file:\n",
        "    for number in numbers:\n",
        "        file.write(f\"{number}\\n\")\n"
      ],
      "metadata": {
        "id": "QGLbv1kb9SaU"
      },
      "execution_count": 24,
      "outputs": []
    },
    {
      "cell_type": "code",
      "source": [
        "#18.  How would you implement a basic logging setup that logs to a file with rotation after 1MB?\n",
        "import logging\n",
        "from logging.handlers import RotatingFileHandler\n",
        "\n",
        "logger = logging.getLogger(\"RotatingLog\")\n",
        "handler = RotatingFileHandler(\"log.txt\", maxBytes=1024 * 1024, backupCount=3)\n",
        "logger.addHandler(handler)\n",
        "logger.setLevel(logging.INFO)\n"
      ],
      "metadata": {
        "id": "bwAbjw-2_JpG"
      },
      "execution_count": 25,
      "outputs": []
    },
    {
      "cell_type": "code",
      "source": [
        "#19. Write a program that handles both IndexError and KeyError using a try-except block.\n",
        "try:\n",
        "    my_list = [1, 2, 3]\n",
        "    print(my_list[5])\n",
        "except IndexError:\n",
        "    print(\"Index out of range!\")\n",
        "\n",
        "try:\n",
        "    my_dict = {\"a\": 1}\n",
        "    print(my_dict[\"b\"])\n",
        "except KeyError:\n",
        "    print(\"Key does not exist!\")\n"
      ],
      "metadata": {
        "colab": {
          "base_uri": "https://localhost:8080/"
        },
        "id": "AfGNW9wf_RkX",
        "outputId": "983e80bc-ca66-40d0-e497-16f3fc8d4d92"
      },
      "execution_count": 26,
      "outputs": [
        {
          "output_type": "stream",
          "name": "stdout",
          "text": [
            "Index out of range!\n",
            "Key does not exist!\n"
          ]
        }
      ]
    },
    {
      "cell_type": "code",
      "source": [
        "#20. How would you open a file and read its contents using a context manager in Python?\n",
        "with open(\"file.txt\", \"r\") as file:\n",
        "    content = file.read()\n"
      ],
      "metadata": {
        "id": "OUy9tKvu_aF2"
      },
      "execution_count": 27,
      "outputs": []
    },
    {
      "cell_type": "code",
      "source": [
        "#21. Write a Python program that reads a file and prints the number of occurrences of a specific word.\n",
        "word = \"hello\"\n",
        "\n",
        "with open(\"file.txt\", \"r\") as file:\n",
        "    content = file.read()\n",
        "\n",
        "print(f\"The word '{word}' appears {content.count(word)} times.\")\n"
      ],
      "metadata": {
        "colab": {
          "base_uri": "https://localhost:8080/"
        },
        "id": "FesSXG8j_lk1",
        "outputId": "d483d2bf-1e86-4b90-e3a8-d7710bc55b36"
      },
      "execution_count": 28,
      "outputs": [
        {
          "output_type": "stream",
          "name": "stdout",
          "text": [
            "The word 'hello' appears 0 times.\n"
          ]
        }
      ]
    },
    {
      "cell_type": "code",
      "source": [
        "#22. How can you check if a file is empty before attempting to read its contents?\n",
        "import os\n",
        "\n",
        "if os.stat(\"file.txt\").st_size == 0:\n",
        "    print(\"File is empty!\")\n",
        "else:\n",
        "    with open(\"file.txt\", \"r\") as file:\n",
        "        print(file.read())\n"
      ],
      "metadata": {
        "colab": {
          "base_uri": "https://localhost:8080/"
        },
        "id": "y_MPWLt5_yMT",
        "outputId": "5f924de2-6ca6-4171-b08b-f420bd298755"
      },
      "execution_count": 29,
      "outputs": [
        {
          "output_type": "stream",
          "name": "stdout",
          "text": [
            "Hello, World!\n",
            "New line appended.\n"
          ]
        }
      ]
    },
    {
      "cell_type": "code",
      "source": [
        "#23. Write a Python program that writes to a log file when an error occurs during file handling.\n",
        "import logging\n",
        "\n",
        "logging.basicConfig(filename=\"error.log\", level=logging.ERROR)\n",
        "\n",
        "try:\n",
        "    with open(\"non_existent.txt\", \"r\") as file:\n",
        "        content = file.read()\n",
        "except IOError:\n",
        "    logging.error(\"Error opening file\")\n"
      ],
      "metadata": {
        "colab": {
          "base_uri": "https://localhost:8080/"
        },
        "id": "hf0CFNx__65X",
        "outputId": "dca8ee70-cecf-49ec-bae2-182e4ba6f96d"
      },
      "execution_count": 30,
      "outputs": [
        {
          "output_type": "stream",
          "name": "stderr",
          "text": [
            "ERROR:root:Error opening file\n"
          ]
        }
      ]
    }
  ]
}